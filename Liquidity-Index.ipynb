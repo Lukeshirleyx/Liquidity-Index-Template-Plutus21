{
 "nbformat": 4,
 "nbformat_minor": 2,
 "metadata": {
  "language_info": {
   "name": "python",
   "codemirror_mode": {
    "name": "ipython",
    "version": 3
   },
   "version": "3.7.3-final"
  },
  "orig_nbformat": 2,
  "file_extension": ".py",
  "mimetype": "text/x-python",
  "name": "python",
  "npconvert_exporter": "python",
  "pygments_lexer": "ipython3",
  "version": 3,
  "kernelspec": {
   "name": "python37364bitbaseconda5994b4e167854476be8aec73de17ebc4",
   "display_name": "Python 3.7.3 64-bit ('base': conda)"
  }
 },
 "cells": [
  {
   "cell_type": "code",
   "execution_count": 37,
   "metadata": {},
   "outputs": [
    {
     "name": "stdout",
     "output_type": "stream",
     "text": "btc current price is 8053.263974145803\neth current price is 139.17915634573123\ndoge current price is 0.002140795118078074\n"
    }
   ],
   "source": [
    "#import Libraries\n",
    "import json\n",
    "from six.moves import urllib\n",
    "\n",
    "#Build Portfolio\n",
    "tickers = [\"BTC-USD\", \"ETH-USD\", \"DOGE-USD\"]\n",
    "exposures = [10.0, 10.0, 10.0]\n",
    "\n",
    "\n",
    "#Pull and format data from Messari\n",
    "for i in [\"btc\", \"eth\", \"doge\"]:\n",
    "    url = \"https://data.messari.io/api/v1/assets/\" + i + \"/metrics/market-data\"\n",
    "\n",
    "    pullData = urllib.request.urlopen(url).read()\n",
    "\n",
    "    format_to_json = json.loads(pullData)\n",
    "\n",
    "    price = format_to_json['data']['market_data']['price_usd']\n",
    "\n",
    "    print(i + \" current price is \" + str(price))\n",
    "\n"
   ]
  },
  {
   "cell_type": "code",
   "execution_count": null,
   "metadata": {},
   "outputs": [],
   "source": []
  }
 ]
}