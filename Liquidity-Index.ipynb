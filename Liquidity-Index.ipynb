{
 "nbformat": 4,
 "nbformat_minor": 2,
 "metadata": {
  "language_info": {
   "name": "python",
   "codemirror_mode": {
    "name": "ipython",
    "version": 3
   },
   "version": "3.7.6-final"
  },
  "orig_nbformat": 2,
  "file_extension": ".py",
  "mimetype": "text/x-python",
  "name": "python",
  "npconvert_exporter": "python",
  "pygments_lexer": "ipython3",
  "version": 3,
  "kernelspec": {
   "name": "python37664bitplutusvenv463458e4821b4220b2fe1e24f5217167",
   "display_name": "Python 3.7.6 64-bit ('plutus': venv)"
  }
 },
 "cells": [
  {
   "cell_type": "code",
   "execution_count": 15,
   "metadata": {},
   "outputs": [
    {
     "name": "stdout",
     "output_type": "stream",
     "text": "BTC Exposure: 81414.5122\nETH Exposure: 1440.9162\nDOGE Exposure: 2.2573\n"
    }
   ],
   "source": [
    "#import Libraries\n",
    "import numpy as np\n",
    "import json\n",
    "from six.moves import urllib\n",
    "\n",
    "#Build Portfolio\n",
    "tickers = np.array([\"BTC\", \"ETH\", \"DOGE\"])\n",
    "assets = np.array([10.0, 10.0, 1000.0])\n",
    "# Exposures need to filled with empty values, since numpy arrays have a fixed size unlike lists  \n",
    "exposures = np.zeros(3)\n",
    "\n",
    "#Pull and format data from Messari\n",
    "for i, ticker in enumerate(tickers):\n",
    "    url = \"https://data.messari.io/api/v1/assets/\" + ticker + \"/metrics/market-data\"\n",
    "\n",
    "    pullData = urllib.request.urlopen(url).read()\n",
    "\n",
    "    format_to_json = json.loads(pullData)\n",
    "\n",
    "    price = format_to_json['data']['market_data']['price_usd']\n",
    "    # Assign the exposure at each index to the price times the allocation at each index\n",
    "    exposures[i] = price * assets[i] \n",
    "    # Print exposures one by one, and limit to four decimal places for cleanliness\n",
    "    print(ticker+\" Exposure: {:.4f}\".format(exposures[i]))\n",
    "\n"
   ]
  },
  {
   "cell_type": "code",
   "execution_count": null,
   "metadata": {},
   "outputs": [],
   "source": []
  }
 ]
}