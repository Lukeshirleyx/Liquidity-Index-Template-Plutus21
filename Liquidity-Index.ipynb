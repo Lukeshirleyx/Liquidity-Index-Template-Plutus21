{
 "nbformat": 4,
 "nbformat_minor": 2,
 "metadata": {
  "language_info": {
   "name": "python",
   "codemirror_mode": {
    "name": "ipython",
    "version": 3
   },
   "version": "3.7.3"
  },
  "orig_nbformat": 2,
  "file_extension": ".py",
  "mimetype": "text/x-python",
  "name": "python",
  "npconvert_exporter": "python",
  "pygments_lexer": "ipython3",
  "version": 3
 },
 "cells": [
  {
   "cell_type": "code",
   "execution_count": 8,
   "metadata": {},
   "outputs": [
    {
     "name": "stdout",
     "output_type": "stream",
     "text": "b'{\"status\":{\"elapsed\":11,\"timestamp\":\"2020-01-08T00:07:18.532588882Z\"},\"data\":{\"id\":\"1e31218a-e44e-4285-820c-8282ee222035\",\"symbol\":\"BTC\",\"name\":\"Bitcoin\",\"slug\":\"bitcoin\",\"_internal_temp_agora_id\":\"9793eae6-f374-46b4-8764-c2d224429791\",\"market_data\":{\"price_usd\":8240.01091552545,\"price_btc\":1,\"volume_last_24_hours\":6616350586.496341,\"real_volume_last_24_hours\":1494617016.9568288,\"volume_last_24_hours_overstatement_multiple\":4.426786602475469,\"percent_change_usd_last_24_hours\":4.4846423524393995,\"percent_change_btc_last_24_hours\":0,\"ohlcv_last_1_hour\":{\"open\":8040.623992880366,\"high\":8274.385291283907,\"low\":8023.777907077858,\"close\":8241.553852074225,\"volume\":100882025.90727267},\"ohlcv_last_24_hour\":{\"open\":7762.576939158358,\"high\":8274.385258876322,\"low\":7725.185711749861,\"close\":8240.010915525452,\"volume\":1504171619.78642},\"last_trade_at\":\"2020-01-08T00:07:15.449Z\"}}}'\n"
    }
   ],
   "source": [
    "from six.moves import urllib\n",
    "url = \"https://data.messari.io/api/v1/assets/btc/metrics/market-data\"\n",
    "print(urllib.request.urlopen(url).read())\n"
   ]
  },
  {
   "cell_type": "code",
   "execution_count": null,
   "metadata": {},
   "outputs": [],
   "source": []
  }
 ]
}