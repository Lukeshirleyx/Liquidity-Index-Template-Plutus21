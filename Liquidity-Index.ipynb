{
 "nbformat": 4,
 "nbformat_minor": 2,
 "metadata": {
  "language_info": {
   "name": "python",
   "codemirror_mode": {
    "name": "ipython",
    "version": 3
   },
   "version": "3.7.3-final"
  },
  "orig_nbformat": 2,
  "file_extension": ".py",
  "mimetype": "text/x-python",
  "name": "python",
  "npconvert_exporter": "python",
  "pygments_lexer": "ipython3",
  "version": 3,
  "kernelspec": {
   "name": "python37364bitbaseconda5994b4e167854476be8aec73de17ebc4",
   "display_name": "Python 3.7.3 64-bit ('base': conda)"
  }
 },
 "cells": [
  {
   "cell_type": "code",
   "execution_count": 38,
   "metadata": {},
   "outputs": [
    {
     "name": "stdout",
     "output_type": "stream",
     "text": "8052.942970998072\n139.1121839000936\n0.0021017623756003495\n"
    }
   ],
   "source": [
    "#import Libraries\n",
    "import json\n",
    "from six.moves import urllib\n",
    "\n",
    "#Build Portfolio\n",
    "tickers = [\"BTC-USD\", \"ETH-USD\", \"DOGE-USD\"]\n",
    "exposures = [10.0, 10.0, 10.0]\n",
    "\n",
    "\n",
    "#Pull and format data from Messari\n",
    "for i in [\"btc\", \"eth\", \"doge\"]:\n",
    "    url = \"https://data.messari.io/api/v1/assets/\" + i + \"/metrics/market-data\"\n",
    "\n",
    "    pullData = urllib.request.urlopen(url).read()\n",
    "\n",
    "    format_to_json = json.loads(pullData)\n",
    "\n",
    "    price = format_to_json['data']['market_data']['price_usd']\n",
    "\n",
    "    print(price)\n",
    "\n"
   ]
  },
  {
   "cell_type": "code",
   "execution_count": null,
   "metadata": {},
   "outputs": [],
   "source": []
  }
 ]
}